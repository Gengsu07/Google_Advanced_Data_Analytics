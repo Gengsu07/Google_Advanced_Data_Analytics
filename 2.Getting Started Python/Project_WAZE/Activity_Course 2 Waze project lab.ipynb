{
 "cells": [
  {
   "cell_type": "markdown",
   "metadata": {
    "id": "DtNBZFHO3M7n"
   },
   "source": [
    "# **Waze Project**\n",
    "\n",
    "**Course 2 - Get Started with Python**\n"
   ]
  },
  {
   "cell_type": "markdown",
   "metadata": {
    "id": "zJCatj3xzrQZ"
   },
   "source": [
    "Welcome to the Waze Project!\n",
    "\n",
    "Your Waze data analytics team is still in the early stages of their user churn project. Previously, you were asked to complete a project proposal by your supervisor, May Santner. You have received notice that your project proposal has been approved and that your team has been given access to Waze's user data. To get clear insights, the user data must be inspected and prepared for the upcoming process of exploratory data analysis (EDA).\n",
    "\n",
    "A Python notebook has been prepared to guide you through this project. Answer the questions and create an executive summary for the Waze data team.\n"
   ]
  },
  {
   "cell_type": "markdown",
   "metadata": {
    "id": "rgSbVJvomcVa"
   },
   "source": [
    "# **Course 2 End-of-course project: Inspect and analyze data**\n",
    "\n",
    "In this activity, you will examine data provided and prepare it for analysis. This activity will help ensure the information is,\n",
    "\n",
    "1.  Ready to answer questions and yield insights\n",
    "\n",
    "2.  Ready for visualizations\n",
    "\n",
    "3.  Ready for future hypothesis testing and statistical methods\n",
    "    <br/>\n",
    "\n",
    "**The purpose** of this project is to investigate and understand the data provided.\n",
    "\n",
    "**The goal** is to use a dataframe contructed within Python, perform a cursory inspection of the provided dataset, and inform team members of your findings.\n",
    "<br/>\n",
    "\n",
    "_This activity has three parts:_\n",
    "\n",
    "**Part 1:** Understand the situation\n",
    "\n",
    "- How can you best prepare to understand and organize the provided information?\n",
    "\n",
    "**Part 2:** Understand the data\n",
    "\n",
    "- Create a pandas dataframe for data learning, future exploratory data analysis (EDA), and statistical activities\n",
    "\n",
    "- Compile summary information about the data to inform next steps\n",
    "\n",
    "**Part 3:** Understand the variables\n",
    "\n",
    "- Use insights from your examination of the summary data to guide deeper investigation into variables\n",
    "\n",
    "<br/>\n",
    "\n",
    "Follow the instructions and answer the following questions to complete the activity. Then, you will complete an Executive Summary using the questions listed on the PACE Strategy Document.\n",
    "\n",
    "Be sure to complete this activity before moving on. The next course item will provide you with a completed exemplar to compare to your own work.\n"
   ]
  },
  {
   "cell_type": "markdown",
   "metadata": {
    "id": "HjFGokxv2pc5"
   },
   "source": [
    "# **Identify data types and compile summary information**\n"
   ]
  },
  {
   "cell_type": "markdown",
   "metadata": {
    "id": "MRUYfzCb4vop"
   },
   "source": [
    "<img src=\"images/Pace.png\" width=\"100\" height=\"100\" align=left>\n",
    "\n",
    "# **PACE stages**\n"
   ]
  },
  {
   "cell_type": "markdown",
   "metadata": {
    "id": "b4B47DQPcSQu"
   },
   "source": [
    "Throughout these project notebooks, you'll see references to the problem-solving framework, PACE. The following notebook components are labeled with the respective PACE stages: Plan, Analyze, Construct, and Execute.\n"
   ]
  },
  {
   "cell_type": "markdown",
   "metadata": {
    "id": "zRHb2QQWj99m"
   },
   "source": [
    "<img src=\"images/Plan.png\" width=\"100\" height=\"100\" align=left>\n",
    "\n",
    "## **PACE: Plan**\n",
    "\n",
    "Consider the questions in your PACE Strategy Document and those below to craft your response:\n"
   ]
  },
  {
   "cell_type": "markdown",
   "metadata": {
    "id": "pWEfG5zJV5oG"
   },
   "source": [
    "### **Task 1. Understand the situation**\n",
    "\n",
    "- How can you best prepare to understand and organize the provided driver data?\n",
    "\n",
    "_Begin by exploring your dataset and consider reviewing the Data Dictionary._\n"
   ]
  },
  {
   "cell_type": "markdown",
   "metadata": {
    "id": "irvqnKSe6Z80"
   },
   "source": [
    "==> READ DATA DICTIONARY and TEAMS EMAILS\n"
   ]
  },
  {
   "cell_type": "markdown",
   "metadata": {
    "id": "1E9Y5aC0IAA-"
   },
   "source": [
    "<img src=\"images/Analyze.png\" width=\"100\" height=\"100\" align=left>\n",
    "\n",
    "## **PACE: Analyze**\n",
    "\n",
    "Consider the questions in your PACE Strategy Document to reflect on the Analyze stage.\n"
   ]
  },
  {
   "cell_type": "markdown",
   "metadata": {
    "id": "D4WK_AxP_S__"
   },
   "source": [
    "### **Task 2a. Imports and data loading**\n",
    "\n",
    "Start by importing the packages that you will need to load and explore the dataset. Make sure to use the following import statements:\n",
    "\n",
    "- `import pandas as pd`\n",
    "\n",
    "- `import numpy as np`\n"
   ]
  },
  {
   "cell_type": "code",
   "execution_count": 14,
   "metadata": {
    "id": "OZSXM4q5zrQh"
   },
   "outputs": [],
   "source": [
    "# Import packages for data manipulation\n",
    "import pandas as pd\n",
    "import numpy as np"
   ]
  },
  {
   "cell_type": "markdown",
   "metadata": {
    "id": "2-hT-EQA67v3"
   },
   "source": [
    "Then, load the dataset into a dataframe. Creating a dataframe will help you conduct data manipulation, exploratory data analysis (EDA), and statistical activities.\n",
    "\n",
    "**Note:** As shown in this cell, the dataset has been automatically loaded in for you. You do not need to download the .csv file, or provide more code, in order to access the dataset and proceed with this lab. Please continue with this activity by completing the following instructions.\n"
   ]
  },
  {
   "cell_type": "code",
   "execution_count": 15,
   "metadata": {},
   "outputs": [],
   "source": [
    "# Load dataset into dataframe\n",
    "df = pd.read_csv(\"waze_dataset.csv\")"
   ]
  },
  {
   "cell_type": "markdown",
   "metadata": {
    "id": "gYx1emvno7U_"
   },
   "source": [
    "### **Task 2b. Summary information**\n",
    "\n",
    "View and inspect summary information about the dataframe by **coding the following:**\n",
    "\n",
    "1.  df.head(10)\n",
    "2.  df.info()\n",
    "\n",
    "_Consider the following questions:_\n",
    "\n",
    "1. When reviewing the `df.head()` output, are there any variables that have missing values?\n",
    "\n",
    "2. When reviewing the `df.info()` output, what are the data types? How many rows and columns do you have?\n",
    "\n",
    "3. Does the dataset have any missing values?\n"
   ]
  },
  {
   "cell_type": "code",
   "execution_count": 16,
   "metadata": {
    "id": "t7Nck2hh4R6J"
   },
   "outputs": [
    {
     "data": {
      "text/html": [
       "<div>\n",
       "<style scoped>\n",
       "    .dataframe tbody tr th:only-of-type {\n",
       "        vertical-align: middle;\n",
       "    }\n",
       "\n",
       "    .dataframe tbody tr th {\n",
       "        vertical-align: top;\n",
       "    }\n",
       "\n",
       "    .dataframe thead th {\n",
       "        text-align: right;\n",
       "    }\n",
       "</style>\n",
       "<table border=\"1\" class=\"dataframe\">\n",
       "  <thead>\n",
       "    <tr style=\"text-align: right;\">\n",
       "      <th></th>\n",
       "      <th>ID</th>\n",
       "      <th>label</th>\n",
       "      <th>sessions</th>\n",
       "      <th>drives</th>\n",
       "      <th>total_sessions</th>\n",
       "      <th>n_days_after_onboarding</th>\n",
       "      <th>total_navigations_fav1</th>\n",
       "      <th>total_navigations_fav2</th>\n",
       "      <th>driven_km_drives</th>\n",
       "      <th>duration_minutes_drives</th>\n",
       "      <th>activity_days</th>\n",
       "      <th>driving_days</th>\n",
       "      <th>device</th>\n",
       "    </tr>\n",
       "  </thead>\n",
       "  <tbody>\n",
       "    <tr>\n",
       "      <th>0</th>\n",
       "      <td>0</td>\n",
       "      <td>retained</td>\n",
       "      <td>283</td>\n",
       "      <td>226</td>\n",
       "      <td>296.748273</td>\n",
       "      <td>2276</td>\n",
       "      <td>208</td>\n",
       "      <td>0</td>\n",
       "      <td>2628.845068</td>\n",
       "      <td>1985.775061</td>\n",
       "      <td>28</td>\n",
       "      <td>19</td>\n",
       "      <td>Android</td>\n",
       "    </tr>\n",
       "    <tr>\n",
       "      <th>1</th>\n",
       "      <td>1</td>\n",
       "      <td>retained</td>\n",
       "      <td>133</td>\n",
       "      <td>107</td>\n",
       "      <td>326.896596</td>\n",
       "      <td>1225</td>\n",
       "      <td>19</td>\n",
       "      <td>64</td>\n",
       "      <td>13715.920550</td>\n",
       "      <td>3160.472914</td>\n",
       "      <td>13</td>\n",
       "      <td>11</td>\n",
       "      <td>iPhone</td>\n",
       "    </tr>\n",
       "    <tr>\n",
       "      <th>2</th>\n",
       "      <td>2</td>\n",
       "      <td>retained</td>\n",
       "      <td>114</td>\n",
       "      <td>95</td>\n",
       "      <td>135.522926</td>\n",
       "      <td>2651</td>\n",
       "      <td>0</td>\n",
       "      <td>0</td>\n",
       "      <td>3059.148818</td>\n",
       "      <td>1610.735904</td>\n",
       "      <td>14</td>\n",
       "      <td>8</td>\n",
       "      <td>Android</td>\n",
       "    </tr>\n",
       "    <tr>\n",
       "      <th>3</th>\n",
       "      <td>3</td>\n",
       "      <td>retained</td>\n",
       "      <td>49</td>\n",
       "      <td>40</td>\n",
       "      <td>67.589221</td>\n",
       "      <td>15</td>\n",
       "      <td>322</td>\n",
       "      <td>7</td>\n",
       "      <td>913.591123</td>\n",
       "      <td>587.196542</td>\n",
       "      <td>7</td>\n",
       "      <td>3</td>\n",
       "      <td>iPhone</td>\n",
       "    </tr>\n",
       "    <tr>\n",
       "      <th>4</th>\n",
       "      <td>4</td>\n",
       "      <td>retained</td>\n",
       "      <td>84</td>\n",
       "      <td>68</td>\n",
       "      <td>168.247020</td>\n",
       "      <td>1562</td>\n",
       "      <td>166</td>\n",
       "      <td>5</td>\n",
       "      <td>3950.202008</td>\n",
       "      <td>1219.555924</td>\n",
       "      <td>27</td>\n",
       "      <td>18</td>\n",
       "      <td>Android</td>\n",
       "    </tr>\n",
       "  </tbody>\n",
       "</table>\n",
       "</div>"
      ],
      "text/plain": [
       "   ID     label  sessions  drives  total_sessions  n_days_after_onboarding  \\\n",
       "0   0  retained       283     226      296.748273                     2276   \n",
       "1   1  retained       133     107      326.896596                     1225   \n",
       "2   2  retained       114      95      135.522926                     2651   \n",
       "3   3  retained        49      40       67.589221                       15   \n",
       "4   4  retained        84      68      168.247020                     1562   \n",
       "\n",
       "   total_navigations_fav1  total_navigations_fav2  driven_km_drives  \\\n",
       "0                     208                       0       2628.845068   \n",
       "1                      19                      64      13715.920550   \n",
       "2                       0                       0       3059.148818   \n",
       "3                     322                       7        913.591123   \n",
       "4                     166                       5       3950.202008   \n",
       "\n",
       "   duration_minutes_drives  activity_days  driving_days   device  \n",
       "0              1985.775061             28            19  Android  \n",
       "1              3160.472914             13            11   iPhone  \n",
       "2              1610.735904             14             8  Android  \n",
       "3               587.196542              7             3   iPhone  \n",
       "4              1219.555924             27            18  Android  "
      ]
     },
     "execution_count": 16,
     "metadata": {},
     "output_type": "execute_result"
    }
   ],
   "source": [
    "df.head()\n",
    "# there is no missing values in data head"
   ]
  },
  {
   "cell_type": "code",
   "execution_count": 17,
   "metadata": {
    "id": "3NctoTSAvGGD"
   },
   "outputs": [
    {
     "name": "stdout",
     "output_type": "stream",
     "text": [
      "<class 'pandas.core.frame.DataFrame'>\n",
      "RangeIndex: 14999 entries, 0 to 14998\n",
      "Data columns (total 13 columns):\n",
      " #   Column                   Non-Null Count  Dtype  \n",
      "---  ------                   --------------  -----  \n",
      " 0   ID                       14999 non-null  int64  \n",
      " 1   label                    14299 non-null  object \n",
      " 2   sessions                 14999 non-null  int64  \n",
      " 3   drives                   14999 non-null  int64  \n",
      " 4   total_sessions           14999 non-null  float64\n",
      " 5   n_days_after_onboarding  14999 non-null  int64  \n",
      " 6   total_navigations_fav1   14999 non-null  int64  \n",
      " 7   total_navigations_fav2   14999 non-null  int64  \n",
      " 8   driven_km_drives         14999 non-null  float64\n",
      " 9   duration_minutes_drives  14999 non-null  float64\n",
      " 10  activity_days            14999 non-null  int64  \n",
      " 11  driving_days             14999 non-null  int64  \n",
      " 12  device                   14999 non-null  object \n",
      "dtypes: float64(3), int64(8), object(2)\n",
      "memory usage: 1.5+ MB\n"
     ]
    }
   ],
   "source": [
    "df.info()"
   ]
  },
  {
   "cell_type": "code",
   "execution_count": 18,
   "metadata": {},
   "outputs": [
    {
     "data": {
      "text/plain": [
       "array([dtype('int64'), dtype('O'), dtype('float64')], dtype=object)"
      ]
     },
     "execution_count": 18,
     "metadata": {},
     "output_type": "execute_result"
    }
   ],
   "source": [
    "df.dtypes.unique()"
   ]
  },
  {
   "cell_type": "code",
   "execution_count": 19,
   "metadata": {},
   "outputs": [
    {
     "data": {
      "text/plain": [
       "ID                           0\n",
       "label                      700\n",
       "sessions                     0\n",
       "drives                       0\n",
       "total_sessions               0\n",
       "n_days_after_onboarding      0\n",
       "total_navigations_fav1       0\n",
       "total_navigations_fav2       0\n",
       "driven_km_drives             0\n",
       "duration_minutes_drives      0\n",
       "activity_days                0\n",
       "driving_days                 0\n",
       "device                       0\n",
       "dtype: int64"
      ]
     },
     "execution_count": 19,
     "metadata": {},
     "output_type": "execute_result"
    }
   ],
   "source": [
    "df.isna().sum()"
   ]
  },
  {
   "cell_type": "code",
   "execution_count": 20,
   "metadata": {},
   "outputs": [
    {
     "data": {
      "text/plain": [
       "(14999, 13)"
      ]
     },
     "execution_count": 20,
     "metadata": {},
     "output_type": "execute_result"
    }
   ],
   "source": [
    "df.shape"
   ]
  },
  {
   "cell_type": "markdown",
   "metadata": {
    "id": "JscqNfr6ZVsE"
   },
   "source": [
    "## Answer:\n",
    "\n",
    "- 1. There is no missing values in data head\n",
    "- 2. The dtypes are int64, float64 and object. The dataset consist of 14999 rows and 13 columns\n",
    "- 3. Yes, the dataset have missing value in label column\n"
   ]
  },
  {
   "cell_type": "code",
   "execution_count": 21,
   "metadata": {},
   "outputs": [
    {
     "data": {
      "text/html": [
       "<div>\n",
       "<style scoped>\n",
       "    .dataframe tbody tr th:only-of-type {\n",
       "        vertical-align: middle;\n",
       "    }\n",
       "\n",
       "    .dataframe tbody tr th {\n",
       "        vertical-align: top;\n",
       "    }\n",
       "\n",
       "    .dataframe thead th {\n",
       "        text-align: right;\n",
       "    }\n",
       "</style>\n",
       "<table border=\"1\" class=\"dataframe\">\n",
       "  <thead>\n",
       "    <tr style=\"text-align: right;\">\n",
       "      <th></th>\n",
       "      <th>ID</th>\n",
       "      <th>sessions</th>\n",
       "      <th>drives</th>\n",
       "      <th>total_sessions</th>\n",
       "      <th>n_days_after_onboarding</th>\n",
       "      <th>total_navigations_fav1</th>\n",
       "      <th>total_navigations_fav2</th>\n",
       "      <th>driven_km_drives</th>\n",
       "      <th>duration_minutes_drives</th>\n",
       "      <th>activity_days</th>\n",
       "      <th>driving_days</th>\n",
       "    </tr>\n",
       "  </thead>\n",
       "  <tbody>\n",
       "    <tr>\n",
       "      <th>count</th>\n",
       "      <td>14999.000000</td>\n",
       "      <td>14999.000000</td>\n",
       "      <td>14999.000000</td>\n",
       "      <td>14999.000000</td>\n",
       "      <td>14999.000000</td>\n",
       "      <td>14999.000000</td>\n",
       "      <td>14999.000000</td>\n",
       "      <td>14999.000000</td>\n",
       "      <td>14999.000000</td>\n",
       "      <td>14999.000000</td>\n",
       "      <td>14999.000000</td>\n",
       "    </tr>\n",
       "    <tr>\n",
       "      <th>mean</th>\n",
       "      <td>7499.000000</td>\n",
       "      <td>80.633776</td>\n",
       "      <td>67.281152</td>\n",
       "      <td>189.964447</td>\n",
       "      <td>1749.837789</td>\n",
       "      <td>121.605974</td>\n",
       "      <td>29.672512</td>\n",
       "      <td>4039.340921</td>\n",
       "      <td>1860.976012</td>\n",
       "      <td>15.537102</td>\n",
       "      <td>12.179879</td>\n",
       "    </tr>\n",
       "    <tr>\n",
       "      <th>std</th>\n",
       "      <td>4329.982679</td>\n",
       "      <td>80.699065</td>\n",
       "      <td>65.913872</td>\n",
       "      <td>136.405128</td>\n",
       "      <td>1008.513876</td>\n",
       "      <td>148.121544</td>\n",
       "      <td>45.394651</td>\n",
       "      <td>2502.149334</td>\n",
       "      <td>1446.702288</td>\n",
       "      <td>9.004655</td>\n",
       "      <td>7.824036</td>\n",
       "    </tr>\n",
       "    <tr>\n",
       "      <th>min</th>\n",
       "      <td>0.000000</td>\n",
       "      <td>0.000000</td>\n",
       "      <td>0.000000</td>\n",
       "      <td>0.220211</td>\n",
       "      <td>4.000000</td>\n",
       "      <td>0.000000</td>\n",
       "      <td>0.000000</td>\n",
       "      <td>60.441250</td>\n",
       "      <td>18.282082</td>\n",
       "      <td>0.000000</td>\n",
       "      <td>0.000000</td>\n",
       "    </tr>\n",
       "    <tr>\n",
       "      <th>25%</th>\n",
       "      <td>3749.500000</td>\n",
       "      <td>23.000000</td>\n",
       "      <td>20.000000</td>\n",
       "      <td>90.661156</td>\n",
       "      <td>878.000000</td>\n",
       "      <td>9.000000</td>\n",
       "      <td>0.000000</td>\n",
       "      <td>2212.600607</td>\n",
       "      <td>835.996260</td>\n",
       "      <td>8.000000</td>\n",
       "      <td>5.000000</td>\n",
       "    </tr>\n",
       "    <tr>\n",
       "      <th>50%</th>\n",
       "      <td>7499.000000</td>\n",
       "      <td>56.000000</td>\n",
       "      <td>48.000000</td>\n",
       "      <td>159.568115</td>\n",
       "      <td>1741.000000</td>\n",
       "      <td>71.000000</td>\n",
       "      <td>9.000000</td>\n",
       "      <td>3493.858085</td>\n",
       "      <td>1478.249859</td>\n",
       "      <td>16.000000</td>\n",
       "      <td>12.000000</td>\n",
       "    </tr>\n",
       "    <tr>\n",
       "      <th>75%</th>\n",
       "      <td>11248.500000</td>\n",
       "      <td>112.000000</td>\n",
       "      <td>93.000000</td>\n",
       "      <td>254.192341</td>\n",
       "      <td>2623.500000</td>\n",
       "      <td>178.000000</td>\n",
       "      <td>43.000000</td>\n",
       "      <td>5289.861262</td>\n",
       "      <td>2464.362632</td>\n",
       "      <td>23.000000</td>\n",
       "      <td>19.000000</td>\n",
       "    </tr>\n",
       "    <tr>\n",
       "      <th>max</th>\n",
       "      <td>14998.000000</td>\n",
       "      <td>743.000000</td>\n",
       "      <td>596.000000</td>\n",
       "      <td>1216.154633</td>\n",
       "      <td>3500.000000</td>\n",
       "      <td>1236.000000</td>\n",
       "      <td>415.000000</td>\n",
       "      <td>21183.401890</td>\n",
       "      <td>15851.727160</td>\n",
       "      <td>31.000000</td>\n",
       "      <td>30.000000</td>\n",
       "    </tr>\n",
       "  </tbody>\n",
       "</table>\n",
       "</div>"
      ],
      "text/plain": [
       "                 ID      sessions        drives  total_sessions  \\\n",
       "count  14999.000000  14999.000000  14999.000000    14999.000000   \n",
       "mean    7499.000000     80.633776     67.281152      189.964447   \n",
       "std     4329.982679     80.699065     65.913872      136.405128   \n",
       "min        0.000000      0.000000      0.000000        0.220211   \n",
       "25%     3749.500000     23.000000     20.000000       90.661156   \n",
       "50%     7499.000000     56.000000     48.000000      159.568115   \n",
       "75%    11248.500000    112.000000     93.000000      254.192341   \n",
       "max    14998.000000    743.000000    596.000000     1216.154633   \n",
       "\n",
       "       n_days_after_onboarding  total_navigations_fav1  \\\n",
       "count             14999.000000            14999.000000   \n",
       "mean               1749.837789              121.605974   \n",
       "std                1008.513876              148.121544   \n",
       "min                   4.000000                0.000000   \n",
       "25%                 878.000000                9.000000   \n",
       "50%                1741.000000               71.000000   \n",
       "75%                2623.500000              178.000000   \n",
       "max                3500.000000             1236.000000   \n",
       "\n",
       "       total_navigations_fav2  driven_km_drives  duration_minutes_drives  \\\n",
       "count            14999.000000      14999.000000             14999.000000   \n",
       "mean                29.672512       4039.340921              1860.976012   \n",
       "std                 45.394651       2502.149334              1446.702288   \n",
       "min                  0.000000         60.441250                18.282082   \n",
       "25%                  0.000000       2212.600607               835.996260   \n",
       "50%                  9.000000       3493.858085              1478.249859   \n",
       "75%                 43.000000       5289.861262              2464.362632   \n",
       "max                415.000000      21183.401890             15851.727160   \n",
       "\n",
       "       activity_days  driving_days  \n",
       "count   14999.000000  14999.000000  \n",
       "mean       15.537102     12.179879  \n",
       "std         9.004655      7.824036  \n",
       "min         0.000000      0.000000  \n",
       "25%         8.000000      5.000000  \n",
       "50%        16.000000     12.000000  \n",
       "75%        23.000000     19.000000  \n",
       "max        31.000000     30.000000  "
      ]
     },
     "execution_count": 21,
     "metadata": {},
     "output_type": "execute_result"
    }
   ],
   "source": [
    "df.describe()"
   ]
  },
  {
   "cell_type": "markdown",
   "metadata": {
    "id": "BMNnIoc51_1N"
   },
   "source": [
    "### **Task 2c. Null values and summary statistics**\n",
    "\n",
    "Compare the summary statistics of the 700 rows that are missing labels with summary statistics of the rows that are not missing any values.\n",
    "\n",
    "**Question:** Is there a discernible difference between the two populations?\n"
   ]
  },
  {
   "cell_type": "code",
   "execution_count": 22,
   "metadata": {
    "id": "bAQeHW-d2S1-"
   },
   "outputs": [
    {
     "data": {
      "text/html": [
       "<div>\n",
       "<style scoped>\n",
       "    .dataframe tbody tr th:only-of-type {\n",
       "        vertical-align: middle;\n",
       "    }\n",
       "\n",
       "    .dataframe tbody tr th {\n",
       "        vertical-align: top;\n",
       "    }\n",
       "\n",
       "    .dataframe thead th {\n",
       "        text-align: right;\n",
       "    }\n",
       "</style>\n",
       "<table border=\"1\" class=\"dataframe\">\n",
       "  <thead>\n",
       "    <tr style=\"text-align: right;\">\n",
       "      <th></th>\n",
       "      <th>ID</th>\n",
       "      <th>sessions</th>\n",
       "      <th>drives</th>\n",
       "      <th>total_sessions</th>\n",
       "      <th>n_days_after_onboarding</th>\n",
       "      <th>total_navigations_fav1</th>\n",
       "      <th>total_navigations_fav2</th>\n",
       "      <th>driven_km_drives</th>\n",
       "      <th>duration_minutes_drives</th>\n",
       "      <th>activity_days</th>\n",
       "      <th>driving_days</th>\n",
       "    </tr>\n",
       "  </thead>\n",
       "  <tbody>\n",
       "    <tr>\n",
       "      <th>count</th>\n",
       "      <td>700.000000</td>\n",
       "      <td>700.000000</td>\n",
       "      <td>700.000000</td>\n",
       "      <td>700.000000</td>\n",
       "      <td>700.000000</td>\n",
       "      <td>700.000000</td>\n",
       "      <td>700.000000</td>\n",
       "      <td>700.000000</td>\n",
       "      <td>700.000000</td>\n",
       "      <td>700.000000</td>\n",
       "      <td>700.000000</td>\n",
       "    </tr>\n",
       "    <tr>\n",
       "      <th>mean</th>\n",
       "      <td>7405.584286</td>\n",
       "      <td>80.837143</td>\n",
       "      <td>67.798571</td>\n",
       "      <td>198.483348</td>\n",
       "      <td>1709.295714</td>\n",
       "      <td>118.717143</td>\n",
       "      <td>30.371429</td>\n",
       "      <td>3935.967029</td>\n",
       "      <td>1795.123358</td>\n",
       "      <td>15.382857</td>\n",
       "      <td>12.125714</td>\n",
       "    </tr>\n",
       "    <tr>\n",
       "      <th>std</th>\n",
       "      <td>4306.900234</td>\n",
       "      <td>79.987440</td>\n",
       "      <td>65.271926</td>\n",
       "      <td>140.561715</td>\n",
       "      <td>1005.306562</td>\n",
       "      <td>156.308140</td>\n",
       "      <td>46.306984</td>\n",
       "      <td>2443.107121</td>\n",
       "      <td>1419.242246</td>\n",
       "      <td>8.772714</td>\n",
       "      <td>7.626373</td>\n",
       "    </tr>\n",
       "    <tr>\n",
       "      <th>min</th>\n",
       "      <td>77.000000</td>\n",
       "      <td>0.000000</td>\n",
       "      <td>0.000000</td>\n",
       "      <td>5.582648</td>\n",
       "      <td>16.000000</td>\n",
       "      <td>0.000000</td>\n",
       "      <td>0.000000</td>\n",
       "      <td>290.119811</td>\n",
       "      <td>66.588493</td>\n",
       "      <td>0.000000</td>\n",
       "      <td>0.000000</td>\n",
       "    </tr>\n",
       "    <tr>\n",
       "      <th>25%</th>\n",
       "      <td>3744.500000</td>\n",
       "      <td>23.000000</td>\n",
       "      <td>20.000000</td>\n",
       "      <td>94.056340</td>\n",
       "      <td>869.000000</td>\n",
       "      <td>4.000000</td>\n",
       "      <td>0.000000</td>\n",
       "      <td>2119.344818</td>\n",
       "      <td>779.009271</td>\n",
       "      <td>8.000000</td>\n",
       "      <td>6.000000</td>\n",
       "    </tr>\n",
       "    <tr>\n",
       "      <th>50%</th>\n",
       "      <td>7443.000000</td>\n",
       "      <td>56.000000</td>\n",
       "      <td>47.500000</td>\n",
       "      <td>177.255925</td>\n",
       "      <td>1650.500000</td>\n",
       "      <td>62.500000</td>\n",
       "      <td>10.000000</td>\n",
       "      <td>3421.156721</td>\n",
       "      <td>1414.966279</td>\n",
       "      <td>15.000000</td>\n",
       "      <td>12.000000</td>\n",
       "    </tr>\n",
       "    <tr>\n",
       "      <th>75%</th>\n",
       "      <td>11007.000000</td>\n",
       "      <td>112.250000</td>\n",
       "      <td>94.000000</td>\n",
       "      <td>266.058022</td>\n",
       "      <td>2508.750000</td>\n",
       "      <td>169.250000</td>\n",
       "      <td>43.000000</td>\n",
       "      <td>5166.097373</td>\n",
       "      <td>2443.955404</td>\n",
       "      <td>23.000000</td>\n",
       "      <td>18.000000</td>\n",
       "    </tr>\n",
       "    <tr>\n",
       "      <th>max</th>\n",
       "      <td>14993.000000</td>\n",
       "      <td>556.000000</td>\n",
       "      <td>445.000000</td>\n",
       "      <td>1076.879741</td>\n",
       "      <td>3498.000000</td>\n",
       "      <td>1096.000000</td>\n",
       "      <td>352.000000</td>\n",
       "      <td>15135.391280</td>\n",
       "      <td>9746.253023</td>\n",
       "      <td>31.000000</td>\n",
       "      <td>30.000000</td>\n",
       "    </tr>\n",
       "  </tbody>\n",
       "</table>\n",
       "</div>"
      ],
      "text/plain": [
       "                 ID    sessions      drives  total_sessions  \\\n",
       "count    700.000000  700.000000  700.000000      700.000000   \n",
       "mean    7405.584286   80.837143   67.798571      198.483348   \n",
       "std     4306.900234   79.987440   65.271926      140.561715   \n",
       "min       77.000000    0.000000    0.000000        5.582648   \n",
       "25%     3744.500000   23.000000   20.000000       94.056340   \n",
       "50%     7443.000000   56.000000   47.500000      177.255925   \n",
       "75%    11007.000000  112.250000   94.000000      266.058022   \n",
       "max    14993.000000  556.000000  445.000000     1076.879741   \n",
       "\n",
       "       n_days_after_onboarding  total_navigations_fav1  \\\n",
       "count               700.000000              700.000000   \n",
       "mean               1709.295714              118.717143   \n",
       "std                1005.306562              156.308140   \n",
       "min                  16.000000                0.000000   \n",
       "25%                 869.000000                4.000000   \n",
       "50%                1650.500000               62.500000   \n",
       "75%                2508.750000              169.250000   \n",
       "max                3498.000000             1096.000000   \n",
       "\n",
       "       total_navigations_fav2  driven_km_drives  duration_minutes_drives  \\\n",
       "count              700.000000        700.000000               700.000000   \n",
       "mean                30.371429       3935.967029              1795.123358   \n",
       "std                 46.306984       2443.107121              1419.242246   \n",
       "min                  0.000000        290.119811                66.588493   \n",
       "25%                  0.000000       2119.344818               779.009271   \n",
       "50%                 10.000000       3421.156721              1414.966279   \n",
       "75%                 43.000000       5166.097373              2443.955404   \n",
       "max                352.000000      15135.391280              9746.253023   \n",
       "\n",
       "       activity_days  driving_days  \n",
       "count     700.000000    700.000000  \n",
       "mean       15.382857     12.125714  \n",
       "std         8.772714      7.626373  \n",
       "min         0.000000      0.000000  \n",
       "25%         8.000000      6.000000  \n",
       "50%        15.000000     12.000000  \n",
       "75%        23.000000     18.000000  \n",
       "max        31.000000     30.000000  "
      ]
     },
     "execution_count": 22,
     "metadata": {},
     "output_type": "execute_result"
    }
   ],
   "source": [
    "# Isolate rows with null values\n",
    "### YOUR CODE HERE ###\n",
    "missing = df[\"label\"].isna()\n",
    "missing_label = df[missing]\n",
    "\n",
    "# Display summary stats of rows with null values\n",
    "### YOUR CODE HERE ###\n",
    "missing_label.describe()"
   ]
  },
  {
   "cell_type": "code",
   "execution_count": 23,
   "metadata": {
    "id": "W77hp8q3w-zi"
   },
   "outputs": [
    {
     "data": {
      "text/html": [
       "<div>\n",
       "<style scoped>\n",
       "    .dataframe tbody tr th:only-of-type {\n",
       "        vertical-align: middle;\n",
       "    }\n",
       "\n",
       "    .dataframe tbody tr th {\n",
       "        vertical-align: top;\n",
       "    }\n",
       "\n",
       "    .dataframe thead th {\n",
       "        text-align: right;\n",
       "    }\n",
       "</style>\n",
       "<table border=\"1\" class=\"dataframe\">\n",
       "  <thead>\n",
       "    <tr style=\"text-align: right;\">\n",
       "      <th></th>\n",
       "      <th>ID</th>\n",
       "      <th>sessions</th>\n",
       "      <th>drives</th>\n",
       "      <th>total_sessions</th>\n",
       "      <th>n_days_after_onboarding</th>\n",
       "      <th>total_navigations_fav1</th>\n",
       "      <th>total_navigations_fav2</th>\n",
       "      <th>driven_km_drives</th>\n",
       "      <th>duration_minutes_drives</th>\n",
       "      <th>activity_days</th>\n",
       "      <th>driving_days</th>\n",
       "    </tr>\n",
       "  </thead>\n",
       "  <tbody>\n",
       "    <tr>\n",
       "      <th>count</th>\n",
       "      <td>14299.000000</td>\n",
       "      <td>14299.000000</td>\n",
       "      <td>14299.000000</td>\n",
       "      <td>14299.000000</td>\n",
       "      <td>14299.000000</td>\n",
       "      <td>14299.000000</td>\n",
       "      <td>14299.000000</td>\n",
       "      <td>14299.000000</td>\n",
       "      <td>14299.000000</td>\n",
       "      <td>14299.000000</td>\n",
       "      <td>14299.000000</td>\n",
       "    </tr>\n",
       "    <tr>\n",
       "      <th>mean</th>\n",
       "      <td>7503.573117</td>\n",
       "      <td>80.623820</td>\n",
       "      <td>67.255822</td>\n",
       "      <td>189.547409</td>\n",
       "      <td>1751.822505</td>\n",
       "      <td>121.747395</td>\n",
       "      <td>29.638296</td>\n",
       "      <td>4044.401535</td>\n",
       "      <td>1864.199794</td>\n",
       "      <td>15.544653</td>\n",
       "      <td>12.182530</td>\n",
       "    </tr>\n",
       "    <tr>\n",
       "      <th>std</th>\n",
       "      <td>4331.207621</td>\n",
       "      <td>80.736502</td>\n",
       "      <td>65.947295</td>\n",
       "      <td>136.189764</td>\n",
       "      <td>1008.663834</td>\n",
       "      <td>147.713428</td>\n",
       "      <td>45.350890</td>\n",
       "      <td>2504.977970</td>\n",
       "      <td>1448.005047</td>\n",
       "      <td>9.016088</td>\n",
       "      <td>7.833835</td>\n",
       "    </tr>\n",
       "    <tr>\n",
       "      <th>min</th>\n",
       "      <td>0.000000</td>\n",
       "      <td>0.000000</td>\n",
       "      <td>0.000000</td>\n",
       "      <td>0.220211</td>\n",
       "      <td>4.000000</td>\n",
       "      <td>0.000000</td>\n",
       "      <td>0.000000</td>\n",
       "      <td>60.441250</td>\n",
       "      <td>18.282082</td>\n",
       "      <td>0.000000</td>\n",
       "      <td>0.000000</td>\n",
       "    </tr>\n",
       "    <tr>\n",
       "      <th>25%</th>\n",
       "      <td>3749.500000</td>\n",
       "      <td>23.000000</td>\n",
       "      <td>20.000000</td>\n",
       "      <td>90.457733</td>\n",
       "      <td>878.500000</td>\n",
       "      <td>10.000000</td>\n",
       "      <td>0.000000</td>\n",
       "      <td>2217.319909</td>\n",
       "      <td>840.181344</td>\n",
       "      <td>8.000000</td>\n",
       "      <td>5.000000</td>\n",
       "    </tr>\n",
       "    <tr>\n",
       "      <th>50%</th>\n",
       "      <td>7504.000000</td>\n",
       "      <td>56.000000</td>\n",
       "      <td>48.000000</td>\n",
       "      <td>158.718571</td>\n",
       "      <td>1749.000000</td>\n",
       "      <td>71.000000</td>\n",
       "      <td>9.000000</td>\n",
       "      <td>3496.545617</td>\n",
       "      <td>1479.394387</td>\n",
       "      <td>16.000000</td>\n",
       "      <td>12.000000</td>\n",
       "    </tr>\n",
       "    <tr>\n",
       "      <th>75%</th>\n",
       "      <td>11257.500000</td>\n",
       "      <td>111.000000</td>\n",
       "      <td>93.000000</td>\n",
       "      <td>253.540450</td>\n",
       "      <td>2627.500000</td>\n",
       "      <td>178.000000</td>\n",
       "      <td>43.000000</td>\n",
       "      <td>5299.972162</td>\n",
       "      <td>2466.928876</td>\n",
       "      <td>23.000000</td>\n",
       "      <td>19.000000</td>\n",
       "    </tr>\n",
       "    <tr>\n",
       "      <th>max</th>\n",
       "      <td>14998.000000</td>\n",
       "      <td>743.000000</td>\n",
       "      <td>596.000000</td>\n",
       "      <td>1216.154633</td>\n",
       "      <td>3500.000000</td>\n",
       "      <td>1236.000000</td>\n",
       "      <td>415.000000</td>\n",
       "      <td>21183.401890</td>\n",
       "      <td>15851.727160</td>\n",
       "      <td>31.000000</td>\n",
       "      <td>30.000000</td>\n",
       "    </tr>\n",
       "  </tbody>\n",
       "</table>\n",
       "</div>"
      ],
      "text/plain": [
       "                 ID      sessions        drives  total_sessions  \\\n",
       "count  14299.000000  14299.000000  14299.000000    14299.000000   \n",
       "mean    7503.573117     80.623820     67.255822      189.547409   \n",
       "std     4331.207621     80.736502     65.947295      136.189764   \n",
       "min        0.000000      0.000000      0.000000        0.220211   \n",
       "25%     3749.500000     23.000000     20.000000       90.457733   \n",
       "50%     7504.000000     56.000000     48.000000      158.718571   \n",
       "75%    11257.500000    111.000000     93.000000      253.540450   \n",
       "max    14998.000000    743.000000    596.000000     1216.154633   \n",
       "\n",
       "       n_days_after_onboarding  total_navigations_fav1  \\\n",
       "count             14299.000000            14299.000000   \n",
       "mean               1751.822505              121.747395   \n",
       "std                1008.663834              147.713428   \n",
       "min                   4.000000                0.000000   \n",
       "25%                 878.500000               10.000000   \n",
       "50%                1749.000000               71.000000   \n",
       "75%                2627.500000              178.000000   \n",
       "max                3500.000000             1236.000000   \n",
       "\n",
       "       total_navigations_fav2  driven_km_drives  duration_minutes_drives  \\\n",
       "count            14299.000000      14299.000000             14299.000000   \n",
       "mean                29.638296       4044.401535              1864.199794   \n",
       "std                 45.350890       2504.977970              1448.005047   \n",
       "min                  0.000000         60.441250                18.282082   \n",
       "25%                  0.000000       2217.319909               840.181344   \n",
       "50%                  9.000000       3496.545617              1479.394387   \n",
       "75%                 43.000000       5299.972162              2466.928876   \n",
       "max                415.000000      21183.401890             15851.727160   \n",
       "\n",
       "       activity_days  driving_days  \n",
       "count   14299.000000  14299.000000  \n",
       "mean       15.544653     12.182530  \n",
       "std         9.016088      7.833835  \n",
       "min         0.000000      0.000000  \n",
       "25%         8.000000      5.000000  \n",
       "50%        16.000000     12.000000  \n",
       "75%        23.000000     19.000000  \n",
       "max        31.000000     30.000000  "
      ]
     },
     "execution_count": 23,
     "metadata": {},
     "output_type": "execute_result"
    }
   ],
   "source": [
    "# Isolate rows without null values\n",
    "### YOUR CODE HERE ###\n",
    "not_missing = df[~missing]\n",
    "# Display summary stats of rows without null values\n",
    "### YOUR CODE HERE ###\n",
    "not_missing.describe()"
   ]
  },
  {
   "cell_type": "code",
   "execution_count": 24,
   "metadata": {},
   "outputs": [
    {
     "data": {
      "text/html": [
       "<div>\n",
       "<style scoped>\n",
       "    .dataframe tbody tr th:only-of-type {\n",
       "        vertical-align: middle;\n",
       "    }\n",
       "\n",
       "    .dataframe tbody tr th {\n",
       "        vertical-align: top;\n",
       "    }\n",
       "\n",
       "    .dataframe thead th {\n",
       "        text-align: right;\n",
       "    }\n",
       "</style>\n",
       "<table border=\"1\" class=\"dataframe\">\n",
       "  <thead>\n",
       "    <tr style=\"text-align: right;\">\n",
       "      <th></th>\n",
       "      <th>missing</th>\n",
       "      <th>not_missing</th>\n",
       "    </tr>\n",
       "  </thead>\n",
       "  <tbody>\n",
       "    <tr>\n",
       "      <th>ID</th>\n",
       "      <td>7405.584286</td>\n",
       "      <td>7503.573117</td>\n",
       "    </tr>\n",
       "    <tr>\n",
       "      <th>sessions</th>\n",
       "      <td>80.837143</td>\n",
       "      <td>80.623820</td>\n",
       "    </tr>\n",
       "    <tr>\n",
       "      <th>drives</th>\n",
       "      <td>67.798571</td>\n",
       "      <td>67.255822</td>\n",
       "    </tr>\n",
       "    <tr>\n",
       "      <th>total_sessions</th>\n",
       "      <td>198.483348</td>\n",
       "      <td>189.547409</td>\n",
       "    </tr>\n",
       "    <tr>\n",
       "      <th>n_days_after_onboarding</th>\n",
       "      <td>1709.295714</td>\n",
       "      <td>1751.822505</td>\n",
       "    </tr>\n",
       "    <tr>\n",
       "      <th>total_navigations_fav1</th>\n",
       "      <td>118.717143</td>\n",
       "      <td>121.747395</td>\n",
       "    </tr>\n",
       "    <tr>\n",
       "      <th>total_navigations_fav2</th>\n",
       "      <td>30.371429</td>\n",
       "      <td>29.638296</td>\n",
       "    </tr>\n",
       "    <tr>\n",
       "      <th>driven_km_drives</th>\n",
       "      <td>3935.967029</td>\n",
       "      <td>4044.401535</td>\n",
       "    </tr>\n",
       "    <tr>\n",
       "      <th>duration_minutes_drives</th>\n",
       "      <td>1795.123358</td>\n",
       "      <td>1864.199794</td>\n",
       "    </tr>\n",
       "    <tr>\n",
       "      <th>activity_days</th>\n",
       "      <td>15.382857</td>\n",
       "      <td>15.544653</td>\n",
       "    </tr>\n",
       "    <tr>\n",
       "      <th>driving_days</th>\n",
       "      <td>12.125714</td>\n",
       "      <td>12.182530</td>\n",
       "    </tr>\n",
       "  </tbody>\n",
       "</table>\n",
       "</div>"
      ],
      "text/plain": [
       "                             missing  not_missing\n",
       "ID                       7405.584286  7503.573117\n",
       "sessions                   80.837143    80.623820\n",
       "drives                     67.798571    67.255822\n",
       "total_sessions            198.483348   189.547409\n",
       "n_days_after_onboarding  1709.295714  1751.822505\n",
       "total_navigations_fav1    118.717143   121.747395\n",
       "total_navigations_fav2     30.371429    29.638296\n",
       "driven_km_drives         3935.967029  4044.401535\n",
       "duration_minutes_drives  1795.123358  1864.199794\n",
       "activity_days              15.382857    15.544653\n",
       "driving_days               12.125714    12.182530"
      ]
     },
     "execution_count": 24,
     "metadata": {},
     "output_type": "execute_result"
    }
   ],
   "source": [
    "pd.concat(\n",
    "    [missing_label.describe().loc[\"mean\"], not_missing.describe().loc[\"mean\"]],\n",
    "    axis=1,\n",
    "    keys=[\"missing\", \"not_missing\"],\n",
    ")"
   ]
  },
  {
   "cell_type": "markdown",
   "metadata": {
    "id": "sJpXfBZUlWC5"
   },
   "source": [
    "## Answer:\n",
    "\n",
    "### **There is no big different between data that has missing label and from the average, it's mean that the data that missing label are distributed**\n"
   ]
  },
  {
   "cell_type": "markdown",
   "metadata": {
    "id": "S2CupDgSlpm4"
   },
   "source": [
    "### **Task 2d. Null values - device counts**\n",
    "\n",
    "Next, check the two populations with respect to the `device` variable.\n",
    "\n",
    "**Question:** How many iPhone users had null values and how many Android users had null values?\n"
   ]
  },
  {
   "cell_type": "code",
   "execution_count": 25,
   "metadata": {
    "id": "IbCnokO8lsq3"
   },
   "outputs": [
    {
     "data": {
      "text/html": [
       "<div>\n",
       "<style scoped>\n",
       "    .dataframe tbody tr th:only-of-type {\n",
       "        vertical-align: middle;\n",
       "    }\n",
       "\n",
       "    .dataframe tbody tr th {\n",
       "        vertical-align: top;\n",
       "    }\n",
       "\n",
       "    .dataframe thead th {\n",
       "        text-align: right;\n",
       "    }\n",
       "</style>\n",
       "<table border=\"1\" class=\"dataframe\">\n",
       "  <thead>\n",
       "    <tr style=\"text-align: right;\">\n",
       "      <th></th>\n",
       "      <th>device</th>\n",
       "      <th>0</th>\n",
       "    </tr>\n",
       "  </thead>\n",
       "  <tbody>\n",
       "    <tr>\n",
       "      <th>0</th>\n",
       "      <td>Android</td>\n",
       "      <td>253</td>\n",
       "    </tr>\n",
       "    <tr>\n",
       "      <th>1</th>\n",
       "      <td>iPhone</td>\n",
       "      <td>447</td>\n",
       "    </tr>\n",
       "  </tbody>\n",
       "</table>\n",
       "</div>"
      ],
      "text/plain": [
       "    device    0\n",
       "0  Android  253\n",
       "1   iPhone  447"
      ]
     },
     "execution_count": 25,
     "metadata": {},
     "output_type": "execute_result"
    }
   ],
   "source": [
    "# Get count of null values by device\n",
    "### YOUR CODE HERE ###\n",
    "missing_label.groupby(\"device\").size().reset_index()"
   ]
  },
  {
   "cell_type": "markdown",
   "metadata": {
    "id": "JKfLfQQUltQk"
   },
   "source": [
    "| **Device** | **Null** |\n",
    "| ---------- | -------- |\n",
    "| Android    | 253      |\n",
    "| iPhone     | 447      |\n"
   ]
  },
  {
   "cell_type": "code",
   "execution_count": 30,
   "metadata": {},
   "outputs": [
    {
     "data": {
      "image/png": "[encoded data removed]",
      "text/plain": [
       "<Figure size 1000x600 with 1 Axes>"
      ]
     },
     "metadata": {},
     "output_type": "display_data"
    }
   ],
   "source": [
    "import matplotlib.pyplot as plt\n",
    "\n",
    "missing_label_counts = missing_label.groupby(\"device\").size().reset_index(name=\"count\")\n",
    "\n",
    "missing_label_counts.plot(kind=\"bar\", x=\"device\", y=\"count\", figsize=(10, 6))\n",
    "\n",
    "for i, count in enumerate(missing_label_counts[\"count\"]):\n",
    "    plt.annotate(str(count), (i, count), ha=\"center\", va=\"bottom\", fontsize=12)\n",
    "\n",
    "plt.xlabel(\"Device\")\n",
    "plt.ylabel(\"Count\")\n",
    "plt.title(\"Missing Label Counts by Device\")\n",
    "\n",
    "plt.show()"
   ]
  },
  {
   "cell_type": "markdown",
   "metadata": {
    "id": "xodMNO1Ql5PZ"
   },
   "source": [
    "Now, of the rows with null values, calculate the percentage with each device&mdash;Android and iPhone. You can do this directly with the [`value_counts()`](https://pandas.pydata.org/docs/reference/api/pandas.Series.value_counts.html) function.\n"
   ]
  },
  {
   "cell_type": "code",
   "execution_count": 31,
   "metadata": {
    "id": "ajlCljYHmCTa"
   },
   "outputs": [
    {
     "data": {
      "text/plain": [
       "device\n",
       "iPhone     63.857143\n",
       "Android    36.142857\n",
       "Name: count, dtype: float64"
      ]
     },
     "execution_count": 31,
     "metadata": {},
     "output_type": "execute_result"
    }
   ],
   "source": [
    "# Calculate % of iPhone nulls and Android nulls\n",
    "### YOUR CODE HERE ###\n",
    "(missing_label[\"device\"].value_counts() / missing_label.shape[0]) * 100"
   ]
  },
  {
   "cell_type": "markdown",
   "metadata": {
    "id": "dA_ps_fA3xn9"
   },
   "source": [
    "How does this compare to the device ratio in the full dataset?\n"
   ]
  },
  {
   "cell_type": "code",
   "execution_count": 32,
   "metadata": {
    "id": "Dm-qKyQNmCsQ"
   },
   "outputs": [
    {
     "name": "stdout",
     "output_type": "stream",
     "text": [
      "Global iphone user %: 64.48429895326355 \n",
      " Global android user %: 35.515701046736446\n"
     ]
    }
   ],
   "source": [
    "# Calculate % of iPhone users and Android users in full dataset\n",
    "### YOUR CODE HERE ###\n",
    "# Iphone\n",
    "iphone_user = (\n",
    "    df[df[\"device\"] == \"iPhone\"][\"device\"].count() / df[\"device\"].count()\n",
    ") * 100\n",
    "\n",
    "\n",
    "# Android\n",
    "android_user = (\n",
    "    df[df[\"device\"] == \"Android\"][\"device\"].count() / df[\"device\"].count()\n",
    ") * 100\n",
    "\n",
    "print(\"Global iphone user %:\", iphone_user,\n",
    "      \"\\n Global android user %:\", android_user)"
   ]
  },
  {
   "cell_type": "markdown",
   "metadata": {
    "id": "eEIeGZdgmRh9"
   },
   "source": [
    "The percentage of missing values by each device is consistent with their representation in the data overall.\n",
    "\n",
    "There is nothing to suggest a non-random cause of the missing data.\n"
   ]
  },
  {
   "cell_type": "markdown",
   "metadata": {
    "id": "uIzg4fXtmSTe"
   },
   "source": [
    "Examine the counts and percentages of users who churned vs. those who were retained. How many of each group are represented in the data?\n"
   ]
  },
  {
   "cell_type": "code",
   "execution_count": 33,
   "metadata": {},
   "outputs": [],
   "source": [
    "df_nonull = df[df[\"label\"].notnull()]"
   ]
  },
  {
   "cell_type": "code",
   "execution_count": 34,
   "metadata": {
    "id": "zQ1mu8g9maYX"
   },
   "outputs": [
    {
     "name": "stdout",
     "output_type": "stream",
     "text": [
      "==============COUNTS OF CHURNED VS. RETAINED==================\n",
      "label\n",
      "retained    11763\n",
      "churned      2536\n",
      "Name: count, dtype: int64\n",
      "\n",
      "==================% OF CHURNED VS. RETAINED====================\n",
      "label\n",
      "retained    82.264494\n",
      "churned     17.735506\n",
      "Name: count, dtype: float64\n"
     ]
    }
   ],
   "source": [
    "# Calculate counts of churned vs. retained\n",
    "# YOUR CODE HERE ###\\\n",
    "print(\"==============COUNTS OF CHURNED VS. RETAINED==================\")\n",
    "print(df_nonull[\"label\"].value_counts())\n",
    "\n",
    "\n",
    "# Calculate percentages of churned vs. retained\n",
    "print(\"\\n==================% OF CHURNED VS. RETAINED====================\")\n",
    "print((df_nonull[\"label\"].value_counts() / df_nonull.shape[0]) * 100)"
   ]
  },
  {
   "cell_type": "markdown",
   "metadata": {
    "id": "VYTZIIOKmfIz"
   },
   "source": [
    "This dataset contains 82% retained users and 18% churned users.\n",
    "\n",
    "Next, compare the medians of each variable for churned and retained users. The reason for calculating the median and not the mean is that you don't want outliers to unduly affect the portrayal of a typical user. Notice, for example, that the maximum value in the `driven_km_drives` column is 21,183 km. That's more than half the circumference of the earth!\n"
   ]
  },
  {
   "cell_type": "code",
   "execution_count": 35,
   "metadata": {
    "id": "jzngebHRmmFA"
   },
   "outputs": [
    {
     "name": "stdout",
     "output_type": "stream",
     "text": [
      "==============MEDIAN VALUES OF ALL COLUMNS FOR CHURNED==================\n"
     ]
    },
    {
     "data": {
      "text/plain": [
       "ID                         7477.500000\n",
       "sessions                     59.000000\n",
       "drives                       50.000000\n",
       "total_sessions              164.339042\n",
       "n_days_after_onboarding    1321.000000\n",
       "total_navigations_fav1       84.500000\n",
       "total_navigations_fav2       11.000000\n",
       "driven_km_drives           3652.655666\n",
       "duration_minutes_drives    1607.183785\n",
       "activity_days                 8.000000\n",
       "driving_days                  6.000000\n",
       "Name: 50%, dtype: float64"
      ]
     },
     "execution_count": 35,
     "metadata": {},
     "output_type": "execute_result"
    }
   ],
   "source": [
    "# Calculate median values of all columns for churned and retained users\n",
    "### YOUR CODE HERE ###\n",
    "churned = df_nonull[df_nonull[\"label\"] == \"churned\"]\n",
    "\n",
    "print(\"==============MEDIAN VALUES OF ALL COLUMNS FOR CHURNED==================\")\n",
    "churned.describe().loc[\"50%\"]"
   ]
  },
  {
   "cell_type": "code",
   "execution_count": 36,
   "metadata": {},
   "outputs": [
    {
     "name": "stdout",
     "output_type": "stream",
     "text": [
      "\n",
      "==============MEDIAN VALUES OF ALL COLUMNS FOR RETAINED==================\n"
     ]
    },
    {
     "data": {
      "text/plain": [
       "ID                         7509.000000\n",
       "sessions                     56.000000\n",
       "drives                       47.000000\n",
       "total_sessions              157.586756\n",
       "n_days_after_onboarding    1843.000000\n",
       "total_navigations_fav1       68.000000\n",
       "total_navigations_fav2        9.000000\n",
       "driven_km_drives           3464.684614\n",
       "duration_minutes_drives    1458.046141\n",
       "activity_days                17.000000\n",
       "driving_days                 14.000000\n",
       "Name: 50%, dtype: float64"
      ]
     },
     "execution_count": 36,
     "metadata": {},
     "output_type": "execute_result"
    }
   ],
   "source": [
    "retained = df_nonull[df_nonull[\"label\"] == \"retained\"]\n",
    "print(\"\\n==============MEDIAN VALUES OF ALL COLUMNS FOR RETAINED==================\")\n",
    "retained.describe().loc[\"50%\"]"
   ]
  },
  {
   "cell_type": "code",
   "execution_count": 37,
   "metadata": {},
   "outputs": [
    {
     "data": {
      "text/html": [
       "<div>\n",
       "<style scoped>\n",
       "    .dataframe tbody tr th:only-of-type {\n",
       "        vertical-align: middle;\n",
       "    }\n",
       "\n",
       "    .dataframe tbody tr th {\n",
       "        vertical-align: top;\n",
       "    }\n",
       "\n",
       "    .dataframe thead th {\n",
       "        text-align: right;\n",
       "    }\n",
       "</style>\n",
       "<table border=\"1\" class=\"dataframe\">\n",
       "  <thead>\n",
       "    <tr style=\"text-align: right;\">\n",
       "      <th></th>\n",
       "      <th>churned</th>\n",
       "      <th>retained</th>\n",
       "    </tr>\n",
       "  </thead>\n",
       "  <tbody>\n",
       "    <tr>\n",
       "      <th>ID</th>\n",
       "      <td>7477.500000</td>\n",
       "      <td>7509.000000</td>\n",
       "    </tr>\n",
       "    <tr>\n",
       "      <th>sessions</th>\n",
       "      <td>59.000000</td>\n",
       "      <td>56.000000</td>\n",
       "    </tr>\n",
       "    <tr>\n",
       "      <th>drives</th>\n",
       "      <td>50.000000</td>\n",
       "      <td>47.000000</td>\n",
       "    </tr>\n",
       "    <tr>\n",
       "      <th>total_sessions</th>\n",
       "      <td>164.339042</td>\n",
       "      <td>157.586756</td>\n",
       "    </tr>\n",
       "    <tr>\n",
       "      <th>n_days_after_onboarding</th>\n",
       "      <td>1321.000000</td>\n",
       "      <td>1843.000000</td>\n",
       "    </tr>\n",
       "    <tr>\n",
       "      <th>total_navigations_fav1</th>\n",
       "      <td>84.500000</td>\n",
       "      <td>68.000000</td>\n",
       "    </tr>\n",
       "    <tr>\n",
       "      <th>total_navigations_fav2</th>\n",
       "      <td>11.000000</td>\n",
       "      <td>9.000000</td>\n",
       "    </tr>\n",
       "    <tr>\n",
       "      <th>driven_km_drives</th>\n",
       "      <td>3652.655666</td>\n",
       "      <td>3464.684614</td>\n",
       "    </tr>\n",
       "    <tr>\n",
       "      <th>duration_minutes_drives</th>\n",
       "      <td>1607.183785</td>\n",
       "      <td>1458.046141</td>\n",
       "    </tr>\n",
       "    <tr>\n",
       "      <th>activity_days</th>\n",
       "      <td>8.000000</td>\n",
       "      <td>17.000000</td>\n",
       "    </tr>\n",
       "    <tr>\n",
       "      <th>driving_days</th>\n",
       "      <td>6.000000</td>\n",
       "      <td>14.000000</td>\n",
       "    </tr>\n",
       "  </tbody>\n",
       "</table>\n",
       "</div>"
      ],
      "text/plain": [
       "                             churned     retained\n",
       "ID                       7477.500000  7509.000000\n",
       "sessions                   59.000000    56.000000\n",
       "drives                     50.000000    47.000000\n",
       "total_sessions            164.339042   157.586756\n",
       "n_days_after_onboarding  1321.000000  1843.000000\n",
       "total_navigations_fav1     84.500000    68.000000\n",
       "total_navigations_fav2     11.000000     9.000000\n",
       "driven_km_drives         3652.655666  3464.684614\n",
       "duration_minutes_drives  1607.183785  1458.046141\n",
       "activity_days               8.000000    17.000000\n",
       "driving_days                6.000000    14.000000"
      ]
     },
     "execution_count": 37,
     "metadata": {},
     "output_type": "execute_result"
    }
   ],
   "source": [
    "pd.concat(\n",
    "    [churned.describe().loc[\"50%\"], retained.describe().loc[\"50%\"]],\n",
    "    axis=1,\n",
    "    keys=[\"churned\", \"retained\"],\n",
    ")"
   ]
  },
  {
   "cell_type": "markdown",
   "metadata": {
    "id": "NvnPFKS3mm71"
   },
   "source": [
    "### This offers an interesting snapshot of the two groups, churned vs. retained:\n",
    "\n",
    "> Users who churned averaged ~3 more drives in the last month than retained users, but retained users used the app on over twice as many days as churned users in the same time period.\n",
    ">\n",
    "> The median churned user drove ~200 more kilometers and 2.5 more hours during the last month than the median retained user.\n",
    ">\n",
    "> It seems that churned users had more drives in fewer days, and their trips were farther and longer in duration. Perhaps this is suggestive of a user profile. Continue exploring!\n"
   ]
  },
  {
   "cell_type": "markdown",
   "metadata": {
    "id": "cUAkU-JInALK"
   },
   "source": [
    "Calculate the median kilometers per drive in the last month for both retained and churned users.\n",
    "\n",
    "Begin by dividing the `driven_km_drives` column by the `drives` column. Then, group the results by churned/retained and calculate the median km/drive of each group.\n"
   ]
  },
  {
   "cell_type": "code",
   "execution_count": 39,
   "metadata": {
    "id": "TVcP2PPhnBMZ"
   },
   "outputs": [
    {
     "name": "stderr",
     "output_type": "stream",
     "text": [
      "C:\\Users\\sugengw07\\AppData\\Local\\Temp\\ipykernel_8348\\2517269675.py:3: SettingWithCopyWarning: \n",
      "A value is trying to be set on a copy of a slice from a DataFrame.\n",
      "Try using .loc[row_indexer,col_indexer] = value instead\n",
      "\n",
      "See the caveats in the documentation: https://pandas.pydata.org/pandas-docs/stable/user_guide/indexing.html#returning-a-view-versus-a-copy\n",
      "  df_nonull[\"km_per_drive\"] = df_nonull[\"driven_km_drives\"] / df_nonull[\"drives\"]\n"
     ]
    },
    {
     "data": {
      "text/plain": [
       "label\n",
       "churned     74.109416\n",
       "retained    75.014702\n",
       "Name: km_per_drive, dtype: float64"
      ]
     },
     "execution_count": 39,
     "metadata": {},
     "output_type": "execute_result"
    }
   ],
   "source": [
    "# Add a column to df called `km_per_drive`\n",
    "### YOUR CODE HERE ###\n",
    "df_nonull[\"km_per_drive\"] = df_nonull[\"driven_km_drives\"] / df_nonull[\"drives\"]\n",
    "\n",
    "# Group by `label`, calculate the median, and isolate for km per drive\n",
    "### YOUR CODE HERE ###\n",
    "df_nonull.groupby(\"label\")[\"km_per_drive\"].median()"
   ]
  },
  {
   "cell_type": "markdown",
   "metadata": {
    "id": "C6VicaRVnFzq"
   },
   "source": [
    "The median retained user drove about one more kilometer per drive than the median churned user. How many kilometers per driving day was this?\n",
    "\n",
    "To calculate this statistic, repeat the steps above using `driving_days` instead of `drives`.\n"
   ]
  },
  {
   "cell_type": "code",
   "execution_count": 42,
   "metadata": {
    "id": "I6lD33kfnGQb"
   },
   "outputs": [
    {
     "data": {
      "text/plain": [
       "label\n",
       "churned     697.541999\n",
       "retained    289.549333\n",
       "Name: km_per_driving_day, dtype: float64"
      ]
     },
     "execution_count": 42,
     "metadata": {},
     "output_type": "execute_result"
    }
   ],
   "source": [
    "# Add a column to df called `km_per_driving_day`\n",
    "### YOUR CODE HERE ###\n",
    "df_nonull.loc[:, \"km_per_driving_day\"] = (\n",
    "    df_nonull[\"driven_km_drives\"] / df_nonull[\"driving_days\"]\n",
    ")\n",
    "\n",
    "# Group by `label`, calculate the median, and isolate for km per driving day\n",
    "### YOUR CODE HERE ###\n",
    "df_nonull.groupby(\"label\")[\"km_per_driving_day\"].median()"
   ]
  },
  {
   "cell_type": "markdown",
   "metadata": {
    "id": "kIfSmukAnVSs"
   },
   "source": [
    "Now, calculate the median number of drives per driving day for each group.\n"
   ]
  },
  {
   "cell_type": "code",
   "execution_count": 43,
   "metadata": {
    "id": "VAHqOO8endWX"
   },
   "outputs": [
    {
     "name": "stderr",
     "output_type": "stream",
     "text": [
      "C:\\Users\\sugengw07\\AppData\\Local\\Temp\\ipykernel_8348\\677911065.py:3: SettingWithCopyWarning: \n",
      "A value is trying to be set on a copy of a slice from a DataFrame.\n",
      "Try using .loc[row_indexer,col_indexer] = value instead\n",
      "\n",
      "See the caveats in the documentation: https://pandas.pydata.org/pandas-docs/stable/user_guide/indexing.html#returning-a-view-versus-a-copy\n",
      "  df_nonull.loc[:, \"drives_per_driving_day\"] = (\n"
     ]
    },
    {
     "data": {
      "text/plain": [
       "label\n",
       "churned     10.0000\n",
       "retained     4.0625\n",
       "Name: drives_per_driving_day, dtype: float64"
      ]
     },
     "execution_count": 43,
     "metadata": {},
     "output_type": "execute_result"
    }
   ],
   "source": [
    "# Add a column to df called `drives_per_driving_day`\n",
    "### YOUR CODE HERE ###\n",
    "df_nonull.loc[:, \"drives_per_driving_day\"] = (\n",
    "    df_nonull[\"drives\"] / df_nonull[\"driving_days\"]\n",
    ")\n",
    "\n",
    "\n",
    "# Group by `label`, calculate the median, and isolate for drives per driving day\n",
    "### YOUR CODE HERE ###\n",
    "df_nonull.groupby(\"label\")[\"drives_per_driving_day\"].median()"
   ]
  },
  {
   "cell_type": "markdown",
   "metadata": {
    "id": "LVRAwsb1nv2L"
   },
   "source": [
    "The median user who churned drove 698 kilometers each day they drove last month, which is almost ~240% the per-drive-day distance of retained users. The median churned user had a similarly disproporionate number of drives per drive day compared to retained users.\n",
    "\n",
    "It is clear from these figures that, regardless of whether a user churned or not, the users represented in this data are serious drivers! It would probably be safe to assume that this data does not represent typical drivers at large. Perhaps the data&mdash;and in particular the sample of churned users&mdash;contains a high proportion of long-haul truckers.\n",
    "\n",
    "In consideration of how much these users drive, it would be worthwhile to recommend to Waze that they gather more data on these super-drivers. It's possible that the reason for their driving so much is also the reason why the Waze app does not meet their specific set of needs, which may differ from the needs of a more typical driver, such as a commuter.\n"
   ]
  },
  {
   "cell_type": "markdown",
   "metadata": {
    "id": "xc7Q6elLoD1R"
   },
   "source": [
    "Finally, examine whether there is an imbalance in how many users churned by device type.\n",
    "\n",
    "Begin by getting the overall counts of each device type for each group, churned and retained.\n"
   ]
  },
  {
   "cell_type": "code",
   "execution_count": 51,
   "metadata": {
    "id": "LGkODIILoEp-"
   },
   "outputs": [
    {
     "data": {
      "image/png": "[encoded data removed]",
      "text/plain": [
       "<Figure size 1000x600 with 1 Axes>"
      ]
     },
     "metadata": {},
     "output_type": "display_data"
    }
   ],
   "source": [
    "# For each label, calculate the number of Android users and iPhone users\n",
    "### YOUR CODE HERE ###\n",
    "device_nonull = df_nonull.groupby([\"label\", \"device\"]).size().reset_index()\n",
    "device_nonull.columns = [\"label\", \"device\", \"count\"]\n",
    "device_nonull.assign(categori=device_nonull.label + \"-\" + device_nonull.device).plot(\n",
    "    kind=\"bar\", x=\"categori\", y=\"count\", figsize=(10, 6)\n",
    ")\n",
    "for i, count in enumerate(device_nonull[\"count\"]):\n",
    "    plt.annotate(str(count), (i, count), ha=\"center\", va=\"bottom\", fontsize=12)"
   ]
  },
  {
   "cell_type": "markdown",
   "metadata": {
    "id": "yTVM6qFkoJs4"
   },
   "source": [
    "Now, within each group, churned and retained, calculate what percent was Android and what percent was iPhone.\n"
   ]
  },
  {
   "cell_type": "code",
   "execution_count": 52,
   "metadata": {
    "id": "rx0ElsS6oO7y"
   },
   "outputs": [],
   "source": [
    "# For each label, calculate the percentage of Android users and iPhone users\n",
    "### YOUR CODE HERE ###\n",
    "device_churned = device_nonull[device_nonull[\"label\"] == \"churned\"].copy()\n",
    "device_churned.loc[:, \"%device\"] = (\n",
    "    device_churned[\"count\"] / device_churned[\"count\"].sum()\n",
    ")\n",
    "\n",
    "device_retained = device_nonull[device_nonull[\"label\"] == \"retained\"].copy()\n",
    "device_retained.loc[:, \"%device\"] = (\n",
    "    device_retained[\"count\"] / device_retained[\"count\"].sum()\n",
    ")"
   ]
  },
  {
   "cell_type": "code",
   "execution_count": 53,
   "metadata": {},
   "outputs": [
    {
     "data": {
      "text/html": [
       "<div>\n",
       "<style scoped>\n",
       "    .dataframe tbody tr th:only-of-type {\n",
       "        vertical-align: middle;\n",
       "    }\n",
       "\n",
       "    .dataframe tbody tr th {\n",
       "        vertical-align: top;\n",
       "    }\n",
       "\n",
       "    .dataframe thead th {\n",
       "        text-align: right;\n",
       "    }\n",
       "</style>\n",
       "<table border=\"1\" class=\"dataframe\">\n",
       "  <thead>\n",
       "    <tr style=\"text-align: right;\">\n",
       "      <th></th>\n",
       "      <th>label</th>\n",
       "      <th>device</th>\n",
       "      <th>count</th>\n",
       "      <th>%device</th>\n",
       "    </tr>\n",
       "  </thead>\n",
       "  <tbody>\n",
       "    <tr>\n",
       "      <th>0</th>\n",
       "      <td>churned</td>\n",
       "      <td>Android</td>\n",
       "      <td>891</td>\n",
       "      <td>0.351341</td>\n",
       "    </tr>\n",
       "    <tr>\n",
       "      <th>1</th>\n",
       "      <td>churned</td>\n",
       "      <td>iPhone</td>\n",
       "      <td>1645</td>\n",
       "      <td>0.648659</td>\n",
       "    </tr>\n",
       "  </tbody>\n",
       "</table>\n",
       "</div>"
      ],
      "text/plain": [
       "     label   device  count   %device\n",
       "0  churned  Android    891  0.351341\n",
       "1  churned   iPhone   1645  0.648659"
      ]
     },
     "execution_count": 53,
     "metadata": {},
     "output_type": "execute_result"
    }
   ],
   "source": [
    "device_churned"
   ]
  },
  {
   "cell_type": "code",
   "execution_count": 54,
   "metadata": {},
   "outputs": [
    {
     "data": {
      "text/html": [
       "<div>\n",
       "<style scoped>\n",
       "    .dataframe tbody tr th:only-of-type {\n",
       "        vertical-align: middle;\n",
       "    }\n",
       "\n",
       "    .dataframe tbody tr th {\n",
       "        vertical-align: top;\n",
       "    }\n",
       "\n",
       "    .dataframe thead th {\n",
       "        text-align: right;\n",
       "    }\n",
       "</style>\n",
       "<table border=\"1\" class=\"dataframe\">\n",
       "  <thead>\n",
       "    <tr style=\"text-align: right;\">\n",
       "      <th></th>\n",
       "      <th>label</th>\n",
       "      <th>device</th>\n",
       "      <th>count</th>\n",
       "      <th>%device</th>\n",
       "    </tr>\n",
       "  </thead>\n",
       "  <tbody>\n",
       "    <tr>\n",
       "      <th>2</th>\n",
       "      <td>retained</td>\n",
       "      <td>Android</td>\n",
       "      <td>4183</td>\n",
       "      <td>0.355607</td>\n",
       "    </tr>\n",
       "    <tr>\n",
       "      <th>3</th>\n",
       "      <td>retained</td>\n",
       "      <td>iPhone</td>\n",
       "      <td>7580</td>\n",
       "      <td>0.644393</td>\n",
       "    </tr>\n",
       "  </tbody>\n",
       "</table>\n",
       "</div>"
      ],
      "text/plain": [
       "      label   device  count   %device\n",
       "2  retained  Android   4183  0.355607\n",
       "3  retained   iPhone   7580  0.644393"
      ]
     },
     "execution_count": 54,
     "metadata": {},
     "output_type": "execute_result"
    }
   ],
   "source": [
    "device_retained"
   ]
  },
  {
   "cell_type": "markdown",
   "metadata": {
    "id": "DQVIMPzroavO"
   },
   "source": [
    "The ratio of iPhone users and Android users is consistent between the churned group and the retained group, and those ratios are both consistent with the ratio found in the overall dataset.\n"
   ]
  },
  {
   "cell_type": "markdown",
   "metadata": {
    "id": "tF_82VLgzrQm"
   },
   "source": [
    "<img src=\"images/Construct.png\" width=\"100\" height=\"100\" align=left>\n",
    "\n",
    "## **PACE: Construct**\n",
    "\n",
    "**Note**: The Construct stage does not apply to this workflow. The PACE framework can be adapted to fit the specific requirements of any project.\n"
   ]
  },
  {
   "cell_type": "markdown",
   "metadata": {
    "id": "BMHV86A6zrQo"
   },
   "source": [
    "<img src=\"images/Execute.png\" width=\"100\" height=\"100\" align=left>\n",
    "\n",
    "## **PACE: Execute**\n",
    "\n",
    "Consider the questions in your PACE Strategy Document and those below to craft your response:\n"
   ]
  },
  {
   "cell_type": "markdown",
   "metadata": {
    "id": "u3HxcMZgz6iW"
   },
   "source": [
    "### **Task 3. Conclusion**\n",
    "\n",
    "Recall that your supervisor, May Santer, asked you to share your findings with the data team in an executive summary. Consider the following questions as you prepare to write your summary. Think about key points you may want to share with the team, and what information is most relevant to the user churn project.\n",
    "\n",
    "**Questions:**\n",
    "\n",
    "1. Did the data contain any missing values? How many, and which variables were affected? Was there a pattern to the missing data?\n",
    "\n",
    "2. What is a benefit of using the median value of a sample instead of the mean?\n",
    "\n",
    "3. Did your investigation give rise to further questions that you would like to explore or ask the Waze team about?\n",
    "\n",
    "4. What percentage of the users in the dataset were Android users and what percentage were iPhone users?\n",
    "\n",
    "5. What were some distinguishing characteristics of users who churned vs. users who were retained?\n",
    "\n",
    "6. Was there an appreciable difference in churn rate between iPhone users vs. Android users?\n"
   ]
  },
  {
   "cell_type": "markdown",
   "metadata": {
    "id": "iMHlK7k5_2PV"
   },
   "source": [
    "==> ENTER YOUR RESPONSES TO QUESTIONS 1-6 HERE\n",
    "** ANSWER:**\n",
    "\n",
    "1. Yes, 700 rows in variable labels. The missing label are distributed evenly\n",
    "2. To anticipate outliers that influence the mean\n",
    "3. Yes, how about user that the vehicle's types is truck\n",
    "4. Iphone users are aaaaabout 64 percent , then Android users are about 36 percent\n",
    "5. Users who churned seems to have more kilometers or longer distance but have fewer days using the waze app\n",
    "6. No, the user who churned and retained in case of the devices are almost same\n"
   ]
  },
  {
   "cell_type": "markdown",
   "metadata": {},
   "source": [
    "**Congratulations!** You've completed this lab. However, you may not notice a green check mark next to this item on Coursera's platform. Please continue your progress regardless of the check mark. Just click on the \"save\" icon at the top of this notebook to ensure your work has been logged.\n"
   ]
  }
 ],
 "metadata": {
  "colab": {
   "provenance": [
    {
     "file_id": "11e8ZirEhEEhZj7pNZmB8r_dPDEwRnfPR",
     "timestamp": 1671051831339
    },
    {
     "file_id": "1SoZM3Yq8C8BdYu-st3_BAlhze2_Z6Ilb",
     "timestamp": 1668798742100
    },
    {
     "file_id": "1U6q6WFOo7_Ka_C9cdq49KwAsI_lFX86-",
     "timestamp": 1668698832849
    },
    {
     "file_id": "1h6rKqbyzegmvnh5T6X1MhTFOXE6VUciq",
     "timestamp": 1666209449412
    },
    {
     "file_id": "1Vz66UR_ImIhJ4HEkCzdY_9E9QLKiboV1",
     "timestamp": 1663780048645
    }
   ],
   "toc_visible": true
  },
  "kernelspec": {
   "display_name": "Python 3",
   "language": "python",
   "name": "python3"
  },
  "language_info": {
   "codemirror_mode": {
    "name": "ipython",
    "version": 3
   },
   "file_extension": ".py",
   "mimetype": "text/x-python",
   "name": "python",
   "nbconvert_exporter": "python",
   "pygments_lexer": "ipython3",
   "version": "3.11.7"
  }
 },
 "nbformat": 4,
 "nbformat_minor": 1
}
